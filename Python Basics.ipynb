{
 "cells": [
  {
   "cell_type": "markdown",
   "id": "084666ee-5ed1-45de-a018-aa014fa35a39",
   "metadata": {},
   "source": [
    "# Python "
   ]
  },
  {
   "cell_type": "markdown",
   "id": "13501e65-6e34-49e6-a516-907114bbe07e",
   "metadata": {},
   "source": [
    "<h3>print</h3>"
   ]
  },
  {
   "cell_type": "code",
   "execution_count": 1,
   "id": "fdd37bd0-6f3e-4a54-bc2b-a4c4c1fec398",
   "metadata": {},
   "outputs": [
    {
     "name": "stdout",
     "output_type": "stream",
     "text": [
      "Hello world\n"
     ]
    }
   ],
   "source": [
    "print(\"Hello world\")"
   ]
  },
  {
   "cell_type": "code",
   "execution_count": 2,
   "id": "581cf068-214d-4dd0-ae8e-15fa9982ecb8",
   "metadata": {},
   "outputs": [
    {
     "name": "stdout",
     "output_type": "stream",
     "text": [
      "Hello world\n"
     ]
    }
   ],
   "source": [
    "print('Hello world')"
   ]
  },
  {
   "cell_type": "markdown",
   "id": "30367ace-999b-4faf-9724-58ea37e6cc6a",
   "metadata": {},
   "source": [
    "<h2>Chapter 1:Python Basics</h2>"
   ]
  },
  {
   "cell_type": "markdown",
   "id": "fe1b9dba-6bb1-40cc-a59d-7aed2c0a7388",
   "metadata": {},
   "source": [
    "<ul>\n",
    "    <li>Basic data types</li>\n",
    "    <li>Variables and scoping</li>\n",
    "    <li>Modules,Packages and the <b>import</b> statement</li>\n",
    "    <li>Operators</li>\n",
    "</ul>"
   ]
  },
  {
   "cell_type": "markdown",
   "id": "a0d0b217-fc5a-4676-8ea3-c1d0b2d4bff8",
   "metadata": {},
   "source": [
    "<h2>Strings</h2>\n",
    "<hr>\n",
    "String is a sequence of characters.So python can access the each element by position/indexing \n",
    "<ol>\n",
    "    <li>Creating Strings</li>\n",
    "    <li>Printing Strings</li>\n",
    "    <li>String Indexing and Slicing</li>\n",
    "    <li>String Properties</li>\n",
    "    <li>String Methods</li>\n",
    "    <li>Print Formatting</li>\n",
    "</ol>"
   ]
  },
  {
   "cell_type": "code",
   "execution_count": 3,
   "id": "17b21477-dd76-42f5-9a74-acc276e81228",
   "metadata": {},
   "outputs": [
    {
     "name": "stdout",
     "output_type": "stream",
     "text": [
      "hi\n",
      "\n",
      "Hello world\n"
     ]
    }
   ],
   "source": [
    "print(\"hi\") #Prints single word hi\n",
    "\n",
    "print() #prints empty line\n",
    "\n",
    "print(\"Hello world\")"
   ]
  },
  {
   "cell_type": "markdown",
   "id": "df53a847-9e4e-4471-9ea4-1c68a17659ca",
   "metadata": {},
   "source": [
    "<h2>Variables</h2>\n",
    "<hr>\n",
    "Variable is a container that stores the value in it "
   ]
  },
  {
   "cell_type": "code",
   "execution_count": 4,
   "id": "a5076b59-3755-463f-842e-345ae3634067",
   "metadata": {},
   "outputs": [],
   "source": [
    "# Variable 's' stores the string \"Good Morning\" in it \n",
    "s=\"Good Morning\"  "
   ]
  },
  {
   "cell_type": "markdown",
   "id": "062741be-697d-422e-89c6-f09cbfc9ae7c",
   "metadata": {},
   "source": [
    "<h2>Indexing in string </h2>\n",
    "<hr>\n",
    "Indexing/positioning of elements starts from 0 "
   ]
  },
  {
   "cell_type": "code",
   "execution_count": 5,
   "id": "9007fc5a-d5a7-4ffc-abda-d0f351f1d8df",
   "metadata": {},
   "outputs": [
    {
     "name": "stdout",
     "output_type": "stream",
     "text": [
      "Good Morning\n"
     ]
    }
   ],
   "source": [
    "print(s)"
   ]
  },
  {
   "cell_type": "code",
   "execution_count": 7,
   "id": "4a6d0bf8-ba92-4f29-b25f-fae5628abe6d",
   "metadata": {},
   "outputs": [
    {
     "name": "stdout",
     "output_type": "stream",
     "text": [
      "G\n"
     ]
    }
   ],
   "source": [
    "print(s[0]) #prints the first character"
   ]
  },
  {
   "cell_type": "code",
   "execution_count": 8,
   "id": "d96178d8-6d94-484a-9fad-3cd1584d82a9",
   "metadata": {},
   "outputs": [
    {
     "name": "stdout",
     "output_type": "stream",
     "text": [
      "g\n"
     ]
    }
   ],
   "source": [
    "print(s[11]) #prints the last character"
   ]
  },
  {
   "cell_type": "markdown",
   "id": "6ca56a98-2a71-454f-9bfa-6036894e70d3",
   "metadata": {},
   "source": [
    "<h4>Challenge<h4>\n",
    "<hr>\n",
    "print 'M' character from the string <br>\n",
    "print 'd' character from the string"
   ]
  },
  {
   "cell_type": "code",
   "execution_count": 14,
   "id": "31923aaf-66fc-412e-abf7-74f5f9d02822",
   "metadata": {},
   "outputs": [
    {
     "name": "stdout",
     "output_type": "stream",
     "text": [
      "M\n",
      "d\n"
     ]
    }
   ],
   "source": [
    "print(s[5])\n",
    "print(s[3])"
   ]
  },
  {
   "cell_type": "markdown",
   "id": "9cc75a10-7f8b-4154-84ca-e814f9a5dbee",
   "metadata": {},
   "source": [
    "<h2>String Concatenation and Repitition</h2>\n",
    "<hr>\n",
    "<b>String Concatenation</b>-addition of two strings<br>\n",
    "<b>String repitition</b>-repeating a same string multiple times "
   ]
  },
  {
   "cell_type": "code",
   "execution_count": 16,
   "id": "c6bb2f71-5959-4428-9d87-b95ad20262ca",
   "metadata": {},
   "outputs": [],
   "source": [
    "a=\"hello\"\n",
    "b=\"world!\""
   ]
  },
  {
   "cell_type": "code",
   "execution_count": 21,
   "id": "df5a57b0-be75-4113-8f99-4f9ffc5c47bc",
   "metadata": {},
   "outputs": [
    {
     "name": "stdout",
     "output_type": "stream",
     "text": [
      "hello world!\n"
     ]
    }
   ],
   "source": [
    "# Concatenation\n",
    "print(a+' '+b)"
   ]
  },
  {
   "cell_type": "code",
   "execution_count": 22,
   "id": "62b8cd76-f292-472d-ac24-e52a62202628",
   "metadata": {},
   "outputs": [
    {
     "name": "stdout",
     "output_type": "stream",
     "text": [
      "hellohellohellohellohello\n"
     ]
    }
   ],
   "source": [
    "# Repitition\n",
    "print(a*5)"
   ]
  },
  {
   "cell_type": "markdown",
   "id": "7d9cf028-f1bd-4d21-8336-e761e11a3689",
   "metadata": {},
   "source": [
    "<h4>Challenge</h4>\n",
    "<hr>\n",
    "Print 'data' 15 times"
   ]
  },
  {
   "cell_type": "code",
   "execution_count": 25,
   "id": "7692c028-8ed3-4a29-b0cf-c35ddbc96c8a",
   "metadata": {},
   "outputs": [
    {
     "name": "stdout",
     "output_type": "stream",
     "text": [
      "datadatadatadatadatadatadatadatadatadatadatadatadatadatadata\n"
     ]
    }
   ],
   "source": [
    "print('data'*15)"
   ]
  },
  {
   "cell_type": "code",
   "execution_count": null,
   "id": "8da27315-0eed-460a-9396-a5891f81e275",
   "metadata": {},
   "outputs": [],
   "source": []
  }
 ],
 "metadata": {
  "kernelspec": {
   "display_name": "Python 3 (ipykernel)",
   "language": "python",
   "name": "python3"
  },
  "language_info": {
   "codemirror_mode": {
    "name": "ipython",
    "version": 3
   },
   "file_extension": ".py",
   "mimetype": "text/x-python",
   "name": "python",
   "nbconvert_exporter": "python",
   "pygments_lexer": "ipython3",
   "version": "3.11.8"
  }
 },
 "nbformat": 4,
 "nbformat_minor": 5
}
